{
 "cells": [
  {
   "cell_type": "markdown",
   "id": "fffcbb2c-4423-4f1c-bc90-e1ac7fbaa456",
   "metadata": {},
   "source": [
    "# Задания "
   ]
  },
  {
   "cell_type": "markdown",
   "id": "c2d747fe-7b74-43e0-95b3-16525e9846ac",
   "metadata": {},
   "source": [
    "## Task 1"
   ]
  },
  {
   "cell_type": "markdown",
   "id": "2e2f1076-fd27-4222-95e9-d3b7ff8ff36a",
   "metadata": {},
   "source": [
    "Напиши код, который будет решать квадратное уравнение вида\n",
    "$ ax^2 + bx + c = 0, a\\neq0$. \\\n",
    "Для этого понадобится найти дискриминант. Его формула $ D = b^2 − 4ac $"
   ]
  },
  {
   "attachments": {},
   "cell_type": "markdown",
   "id": "20bf557b-21f9-46fa-b8db-76b7a96526f4",
   "metadata": {},
   "source": [
    "Для начала напиши формулу нахождения корней квадратного уравнения на языке LaTeX\n",
    "\n",
    "$x=\\frac{-b\\pm\\sqrt{b^2−4ac}}{2a}$\n",
    "\n",
    "$x=\\frac{-b\\pm\\sqrt{D}}{2a}$"
   ]
  },
  {
   "cell_type": "markdown",
   "id": "c78b058d-777d-4369-b86d-0c0fc013eba9",
   "metadata": {},
   "source": [
    "Теперь, когда ты вспомнил как находить корни, приступай к написанию функции:\n",
    "- Функция принимает на вход коэффициент a, b, c.\n",
    "- Функция должна возвращать кортеж корней уравнения. \n",
    "- Если корней у уравнения нет, то функция должна вернуть None"
   ]
  },
  {
   "cell_type": "code",
   "execution_count": 40,
   "id": "03b8b371-870b-42cc-8f53-1e8596406894",
   "metadata": {},
   "outputs": [
    {
     "name": "stdout",
     "output_type": "stream",
     "text": [
      "(2.85, -0.35)\n"
     ]
    }
   ],
   "source": [
    "from math import sqrt\n",
    "\n",
    "a = 2\n",
    "b = -5\n",
    "c = -2\n",
    "\n",
    "def quadratic_equation(a, b, c):\n",
    "    d = b ** 2 - 4 * a * c\n",
    "    if d > 0:\n",
    "        x1 = (-b + sqrt(d))/(2 * a)\n",
    "        x2 = (-b - sqrt(d))/(2 * a)\n",
    "        return round(x1, 2), round(x2, 2)\n",
    "    elif d == 0:\n",
    "        return round(-b / (2 * a), 2)\n",
    "    else:\n",
    "        return None\n",
    "\n",
    "if a != 0:    \n",
    "    print(quadratic_equation(a, b, c))\n",
    "else:\n",
    "    print('Error! Enter a != 0.')"
   ]
  },
  {
   "cell_type": "markdown",
   "id": "a8541146-f127-4482-b067-279d50975dac",
   "metadata": {},
   "source": [
    "## Task 2"
   ]
  },
  {
   "cell_type": "markdown",
   "id": "816c48be-0963-4bd6-bd86-c8172eb8968e",
   "metadata": {},
   "source": [
    "Функция, которая на вход принимает cписок случайных чисел, а возвращает уже отсортированный методом Пузырька по возрастанию."
   ]
  },
  {
   "cell_type": "code",
   "execution_count": 42,
   "id": "3fbaf6b3-876f-4ecf-9be6-d26181ee3a48",
   "metadata": {},
   "outputs": [
    {
     "name": "stdout",
     "output_type": "stream",
     "text": [
      "[6, 10, 8, 5, 7, 8, 3]\n",
      "[3, 5, 6, 7, 8, 8, 10]\n"
     ]
    }
   ],
   "source": [
    "from random import randint\n",
    "\n",
    "list_numbers = [randint(0, 10) for _ in range(7)]\n",
    "print(list_numbers)\n",
    "\n",
    "def bubble_sort(lst):\n",
    "    for i in range(len(list_numbers) - 1):\n",
    "        for j in range(i + 1, len(list_numbers)):\n",
    "            if list_numbers[i] > list_numbers[j]:\n",
    "                temp = list_numbers[j]\n",
    "                list_numbers[j] = list_numbers[i]\n",
    "                list_numbers[i] = temp\n",
    "    return list_numbers\n",
    "\n",
    "print(bubble_sort(list_numbers))"
   ]
  },
  {
   "cell_type": "markdown",
   "id": "0026496c-03a8-4fcc-907b-dfb8f3fc0efb",
   "metadata": {},
   "source": [
    "## Task 3"
   ]
  },
  {
   "cell_type": "markdown",
   "id": "688251be-39a3-49ed-9993-a5f9b39f430d",
   "metadata": {},
   "source": [
    "Самое часто встречающееся слово в романе \"Война и Мир\" без учета:\n",
    "   * Пунктуации\n",
    "   * Слов **короче четырех** символов \n",
    "   * 'Стоп-слов', которые приведены в файле в stop_words_russian.txt\n",
    "   \n",
    ">Для решения задачи достаточно использовать стандартные библиотеки Python. \\\n",
    "\n",
    ">Обязательно поделись с пирами в rocket-chat сколько раз у тебя встретилось это слово. Результаты, в зависимости от предобработки, могут чуть отличаться."
   ]
  },
  {
   "cell_type": "code",
   "execution_count": 2,
   "id": "94501d71-ee88-4f78-808d-20e79a5f3707",
   "metadata": {},
   "outputs": [
    {
     "name": "stdout",
     "output_type": "stream",
     "text": [
      "[('Пьер', 1401), ('князь', 949), ('Наташа', 822), ('Андрей', 801), ('Ростов', 534), ('Марья', 514), ('Пьера', 475), ('людей', 460), ('князя', 433), ('лицо', 424)]\n"
     ]
    }
   ],
   "source": [
    "from collections import Counter\n",
    "\n",
    "text = open('../datasets/war_and_peace.txt', encoding='utf8').read()\n",
    "stop_words = open('../datasets/stop_words_russian.txt', encoding='utf8').read()\n",
    "punctuation = '''!:'\",.`?;()[]-<>–|\\\\/}{%+=*$#@'''\n",
    "\n",
    "# очищаем от знаков пунктуации\n",
    "for i in punctuation:\n",
    "    text = text.replace(i, ' ')\n",
    "\n",
    "# формируем список слов\n",
    "text = text.split()\n",
    "\n",
    "clean_text = []\n",
    "# убираем стоп-слова и слова длиной менее 4 символов\n",
    "for i in range(len(text)):\n",
    "    if text[i] not in stop_words and len(text[i]) > 3:\n",
    "        clean_text.append(text[i])\n",
    "\n",
    "# считаем...\n",
    "lst_word_count = Counter(clean_text)\n",
    "result = lst_word_count.most_common(10)\n",
    "print(result)"
   ]
  },
  {
   "cell_type": "markdown",
   "id": "d4b6f922-7a22-4b38-8529-c92994edd38c",
   "metadata": {},
   "source": [
    "## Task 4"
   ]
  },
  {
   "cell_type": "markdown",
   "id": "c2cef602-ab87-47f8-ab2c-e323442b62f7",
   "metadata": {},
   "source": [
    "Функция для расчета числа Фибоначчи с использованием рекурсивной функции."
   ]
  },
  {
   "cell_type": "code",
   "execution_count": 44,
   "id": "ec1c1860-774d-4583-a44b-bdc30492eead",
   "metadata": {},
   "outputs": [
    {
     "name": "stdout",
     "output_type": "stream",
     "text": [
      "34\n"
     ]
    }
   ],
   "source": [
    "# 0, 1, 1, 2, 3, 5, 8, 13, 21, 34, 55, 89, 144, 233, 377, 610, 987, 1597, 2584, 4181, 6765, 10946, 17711... (ряд Фибоначчи)\n",
    "# 0, 1, 2, 3, 4, 5, 6, 7,  8,  9,  10, 11, 12,  13,  14,  15,  16,  17,   18,   19,   20,   21,    22...    (индексы)\n",
    "\n",
    "n = 9\n",
    "\n",
    "def fib(n):\n",
    "    if n == 1:\n",
    "        return 1\n",
    "    elif n == 0:\n",
    "        return 0\n",
    "    else:\n",
    "        return fib(n - 1) + fib(n - 2)\n",
    "    \n",
    "print(fib(n))"
   ]
  },
  {
   "cell_type": "markdown",
   "id": "1acc3069-4b1a-4a5c-98e4-055731203d2d",
   "metadata": {},
   "source": [
    "## Task 5"
   ]
  },
  {
   "cell_type": "markdown",
   "id": "944e804e-fb40-4ea2-b931-38b595d3c262",
   "metadata": {},
   "source": [
    "Функция перевода валюты в рубли."
   ]
  },
  {
   "cell_type": "code",
   "execution_count": 13,
   "id": "570cfb71-5cf0-41fc-aae7-cf2b2812eaca",
   "metadata": {},
   "outputs": [
    {
     "name": "stdout",
     "output_type": "stream",
     "text": [
      "50 EUR = 4507.18 RUB\n"
     ]
    }
   ],
   "source": [
    "import requests\n",
    "\n",
    "currency = 'eur'\n",
    "value = 50\n",
    "\n",
    "def convert2RU(currency, value):\n",
    "    r = requests.get('https://www.cbr-xml-daily.ru/daily_json.js')\n",
    "    if r.status_code == 200:\n",
    "        res = r.json()['Valute'][currency.upper()]['Value'] * value\n",
    "    else:\n",
    "        res = 'Error! Try again later.'\n",
    "    return res\n",
    "\n",
    "print(f'{value} {currency.upper()} = {convert2RU(currency, value)} RUB')"
   ]
  },
  {
   "cell_type": "markdown",
   "id": "fe1396fa-7109-48ad-a255-4d4f622c18a4",
   "metadata": {},
   "source": [
    "## *Task 6. Дополнительное задание"
   ]
  },
  {
   "cell_type": "markdown",
   "id": "71315701-39bd-4759-afd9-7bf20486b4f7",
   "metadata": {},
   "source": [
    "Написание проверки на пaлиндром."
   ]
  },
  {
   "cell_type": "markdown",
   "id": "715fd45b-eb76-4eb5-bbd8-a257035fe892",
   "metadata": {},
   "source": [
    "1. На вход функции _isPalindrome_ подается **число** (int). \\\n",
    "Функция возвращает **True**, если число является палидромом и **False** в противном случае. "
   ]
  },
  {
   "cell_type": "code",
   "execution_count": 25,
   "id": "9f48d9c7-c413-47fb-b692-ce5ad8ed9ec1",
   "metadata": {},
   "outputs": [],
   "source": [
    "x = 456654"
   ]
  },
  {
   "cell_type": "code",
   "execution_count": 26,
   "id": "90270d73",
   "metadata": {},
   "outputs": [
    {
     "name": "stdout",
     "output_type": "stream",
     "text": [
      "True\n"
     ]
    }
   ],
   "source": [
    "def isPalindrome(x: int) -> bool:\n",
    "    for i in range(len(str(x)) // 2):\n",
    "        if str(x)[i] != str(x)[len(str(x)) - 1 - i]:\n",
    "            return False\n",
    "    return True\n",
    "\n",
    "print(isPalindrome(x))"
   ]
  },
  {
   "cell_type": "markdown",
   "id": "e86f6f7c-c3b0-4b92-bb3d-651dcc7d4706",
   "metadata": {},
   "source": [
    "2. Реализация функции без использования перевода числа в строку."
   ]
  },
  {
   "cell_type": "code",
   "execution_count": 27,
   "id": "35cf92fa-04c6-489b-9523-99d78dce4ba1",
   "metadata": {},
   "outputs": [
    {
     "name": "stdout",
     "output_type": "stream",
     "text": [
      "True\n"
     ]
    }
   ],
   "source": [
    "def isPalindrome_v2(x: int) -> bool:\n",
    "    if x < 0: return False\n",
    "    list_symbol = []\n",
    "    while x > 0:\n",
    "        list_symbol.append(x % 10)\n",
    "        x //= 10\n",
    "    for i in range(len(list_symbol) // 2):\n",
    "        if list_symbol[i] != list_symbol[len(list_symbol) - 1 - i]:\n",
    "            return False\n",
    "    return True\n",
    "\n",
    "\n",
    "print(isPalindrome_v2(x))"
   ]
  }
 ],
 "metadata": {
  "kernelspec": {
   "display_name": "Python 3 (ipykernel)",
   "language": "python",
   "name": "python3"
  },
  "language_info": {
   "codemirror_mode": {
    "name": "ipython",
    "version": 3
   },
   "file_extension": ".py",
   "mimetype": "text/x-python",
   "name": "python",
   "nbconvert_exporter": "python",
   "pygments_lexer": "ipython3",
   "version": "3.10.11"
  }
 },
 "nbformat": 4,
 "nbformat_minor": 5
}
